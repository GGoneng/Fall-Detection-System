{
 "cells": [
  {
   "cell_type": "code",
   "execution_count": null,
   "id": "9bb00795",
   "metadata": {},
   "outputs": [],
   "source": [
    "# -----------------------------------------------------------------------------------\n",
    "# 파일명       : Labeling.ipynb\n",
    "# 설명         : 라벨링 데이터 생성\n",
    "# 작성자       : 이민하\n",
    "# 작성일       : 2025-05-03\n",
    "# \n",
    "# 사용 모듈    :\n",
    "# - pandas                           # 데이터프레임 기반 데이터 처리\n",
    "# - os                               # 파일 및 경로 관리\n",
    "# - re                               # 정규표현식 활용\n",
    "# -----------------------------------------------------------------------------------\n",
    "# >> 주요 기능\n",
    "# - 영상 데이터에 대해 낙상인지 아닌지 라벨링 데이터 생성\n",
    "#\n",
    "# >> 업데이트 내역\n",
    "# [2025-05-03] 각 영상별로 데이터 위치에 따라 라벨링\n",
    "# [2025-05-12] 데이터 증강\n",
    "# -----------------------------------------------------------------------------------\n"
   ]
  },
  {
   "cell_type": "code",
   "execution_count": null,
   "id": "9fa00f32",
   "metadata": {},
   "outputs": [],
   "source": [
    "# 데이터프레임 기반 데이터 처리\n",
    "import pandas as pd\n",
    "\n",
    "# 파일 및 경로 관리\n",
    "import os\n",
    "\n",
    "# 정규표현식 활용\n",
    "import re"
   ]
  },
  {
   "cell_type": "code",
   "execution_count": null,
   "id": "9ddf13c0",
   "metadata": {},
   "outputs": [
    {
     "name": "stdout",
     "output_type": "stream",
     "text": [
      "1500 500\n"
     ]
    }
   ],
   "source": [
    "# 비디오 저장 위치 설정\n",
    "VIDEO_PATH = r\"F:/Fall_Detection_Data/Source_Data/Video/\"\n",
    "\n",
    "# 증강 데이터 경로 설정\n",
    "ADD_PATH = r\"D:/041.낙상사고 위험동작 영상-센서 쌍 데이터/3.개방데이터/1.데이터/Training/01.원천데이터/TS/영상/N/N/\"\n",
    "ADD_PATH2 = r\"D:/041.낙상사고 위험동작 영상-센서 쌍 데이터/3.개방데이터/1.데이터/Training/01.원천데이터/TS/영상/Y/FY/\"\n",
    "\n",
    "# 경로를 담을 리스트 생성\n",
    "path_list = []\n",
    "add_path_list = []\n",
    "add_path_list2 = []\n",
    "\n",
    "# 각 경로에 존재하는 MP4 파일 경로 추출\n",
    "for dirpath, _, filenames in os.walk(VIDEO_PATH):\n",
    "    for filename in filenames:\n",
    "        if filename.endswith((\".mp4\", \".MP4\")):\n",
    "            path_list.append(os.path.join(dirpath, filename))\n",
    "\n",
    "for dirpath, _, filenames in os.walk(ADD_PATH):\n",
    "    for filename in filenames:\n",
    "        if filename.endswith((\".mp4\", \".MP4\")):\n",
    "            add_path_list.append(os.path.join(dirpath, filename))\n",
    "\n",
    "for dirpath, _, filenames in os.walk(ADD_PATH2):\n",
    "    for filename in filenames:\n",
    "        if filename.endswith((\".mp4\", \".MP4\")):\n",
    "            add_path_list2.append(os.path.join(dirpath, filename))\n",
    "\n",
    "# 갯수 설정\n",
    "add_path_list = add_path_list[:1500]\n",
    "\n",
    "add_path_list2 = add_path_list2[:500]\n",
    "\n",
    "print(len(add_path_list), len(add_path_list2))"
   ]
  },
  {
   "cell_type": "code",
   "execution_count": null,
   "id": "d846cf8b",
   "metadata": {},
   "outputs": [
    {
     "name": "stdout",
     "output_type": "stream",
     "text": [
      "      source_index  label\n",
      "0                0      0\n",
      "1                1      0\n",
      "2                2      0\n",
      "3                3      0\n",
      "4                4      0\n",
      "...            ...    ...\n",
      "4267          4267      1\n",
      "4268          4268      1\n",
      "4269          4269      1\n",
      "4270          4270      1\n",
      "4271          4271      1\n",
      "\n",
      "[4272 rows x 2 columns]\n"
     ]
    }
   ],
   "source": [
    "# 라벨링을 위한 데이터프레임 생성\n",
    "label_df = pd.DataFrame(columns = [\"source_index\", \"label\"])\n",
    "\n",
    "# 경로 내에 'N'이 있으면 비낙상, 나머지는 낙상\n",
    "for i, path in enumerate(path_list):\n",
    "    if path.split(\"\\\\\")[1] == \"N\":\n",
    "        label_df.loc[i] = {\"source_index\" : i, \"label\" : 0}\n",
    "    else:\n",
    "        label_df.loc[i] = {\"source_index\" : i, \"label\" : 1}\n",
    "\n",
    "# 데이터프레임에 값 입력\n",
    "for i, path in enumerate(add_path_list):\n",
    "    label_df.loc[len(label_df)] = {\"source_index\" : label_df.index[-1] + 1, \"label\": 0}\n",
    "\n",
    "for i, path in enumerate(add_path_list2):\n",
    "    label_df.loc[len(label_df)] = {\"source_index\" : label_df.index[-1] + 1, \"label\": 1}\n",
    "\n",
    "print(label_df)\n",
    "\n",
    "# CSV 파일로 저장\n",
    "label_df.to_csv(\"Label.csv\", index = False)"
   ]
  },
  {
   "cell_type": "code",
   "execution_count": null,
   "id": "64f9daf8",
   "metadata": {},
   "outputs": [
    {
     "data": {
      "text/plain": [
       "4272"
      ]
     },
     "execution_count": 25,
     "metadata": {},
     "output_type": "execute_result"
    }
   ],
   "source": [
    "# 영상별로 추출한 CSV 파일과 라벨링 데이터의 크기 비교\n",
    "folder_path = './10fps_Dataset' \n",
    "\n",
    "csv_files = sorted(\n",
    "    [os.path.join(folder_path, f) for f in os.listdir(folder_path) if f.endswith('.csv')],\n",
    "    key=lambda x: int(re.search(r'\\d+', os.path.basename(x)).group())\n",
    ")\n",
    "\n",
    "len(csv_files)"
   ]
  },
  {
   "cell_type": "code",
   "execution_count": 26,
   "id": "e63ceb0f",
   "metadata": {},
   "outputs": [
    {
     "data": {
      "text/plain": [
       "4272"
      ]
     },
     "execution_count": 26,
     "metadata": {},
     "output_type": "execute_result"
    }
   ],
   "source": [
    "len(pd.read_csv(\"Label.csv\"))"
   ]
  }
 ],
 "metadata": {
  "kernelspec": {
   "display_name": "Project_38",
   "language": "python",
   "name": "python3"
  },
  "language_info": {
   "codemirror_mode": {
    "name": "ipython",
    "version": 3
   },
   "file_extension": ".py",
   "mimetype": "text/x-python",
   "name": "python",
   "nbconvert_exporter": "python",
   "pygments_lexer": "ipython3",
   "version": "3.8.20"
  }
 },
 "nbformat": 4,
 "nbformat_minor": 5
}
